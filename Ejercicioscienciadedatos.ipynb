{
 "cells": [
  {
   "cell_type": "code",
   "execution_count": 6,
   "metadata": {},
   "outputs": [
    {
     "name": "stdout",
     "output_type": "stream",
     "text": [
      "['E\\t1\\t1999-02-28\\tb,g,f\\tjjj:12,bbb:3,ddd:9,ggg:8,hhh:2\\n', 'A\\t2\\t1999-10-28\\ta,f,c\\tccc:2,ddd:0,aaa:3,hhh:9\\n', 'B\\t5\\t1998-05-02\\tf,e,a,c\\tddd:2,ggg:5,ccc:6,jjj:12\\n', 'A\\t3\\t1999-08-28\\ta,b\\thhh:9,iii:5,eee:7,bbb:1\\n', 'C\\t6\\t1999-12-01\\tf,g,d,a\\tiii:6,ddd:5,eee:4,jjj:12\\n', 'A\\t7\\t1998-07-28\\tc,d\\tbbb:2,hhh:0,ccc:4,fff:1,aaa:7\\n', 'A\\t9\\t1997-02-28\\tg,d,a\\taaa:5,fff:8,ddd:2,iii:0,jjj:7,ccc:1\\n', 'B\\t1\\t1999-05-10\\tb,a\\tfff:3,hhh:1,ddd:2\\n', 'E\\t2\\t1997-04-12\\td,e,a,f\\teee:4,ccc:5,iii:9,fff:7,ggg:6,bbb:2\\n', 'B\\t3\\t1999-11-23\\td,b,g,f\\tbbb:7,jjj:9,fff:5,iii:4,ggg:3,eee:3\\n', 'C\\t7\\t1998-01-17\\td,c,f,b\\thhh:6,eee:4,iii:0,fff:2,jjj:12\\n', 'C\\t5\\t1998-12-28\\td,e,a,c\\tbbb:7,iii:6,ggg:9\\n', 'D\\t3\\t1999-10-15\\tg,e,f,b\\tbbb:9,aaa:3,ccc:6,fff:4,eee:2\\n', 'E\\t8\\t1998-11-01\\tc,f\\taaa:8,ddd:5,jjj:12\\n', 'B\\t9\\t1999-08-12\\td,b\\tccc:7,jjj:6,fff:7,ddd:3,aaa:2\\n', 'D\\t8\\t1997-12-01\\tf,e\\tccc:8,eee:6,bbb:9,ddd:3\\n', 'E\\t3\\t1997-07-28\\te,b,f\\tbbb:6,iii:3,hhh:5,fff:4,ggg:9,ddd:2\\n', 'D\\t5\\t1998-08-12\\tg,a\\thhh:4,jjj:5,ccc:9\\n', 'E\\t8\\t1999-08-24\\te,c,f,a\\tccc:1,iii:6,fff:9\\n', 'E\\t9\\t1998-01-23\\te,a\\tbbb:9,aaa:3,fff:1\\n', 'E\\t7\\t1999-06-22\\te,f\\tddd:9,iii:2,aaa:4\\n', 'E\\t3\\t1999-04-24\\tc,b,g\\tccc:5,fff:8,iii:7\\n', 'D\\t5\\t1999-06-25\\tc,f,a\\teee:3,jjj:17,ddd:7\\n', 'A\\t9\\t1999-08-25\\tf,a,d\\tjjj:12,ggg:7,ccc:7,ddd:9,bbb:3\\n', 'E\\t4\\t1997-07-26\\tc,d\\tjjj:6,ccc:4,aaa:1,hhh:9,iii:7,ggg:8\\n', 'E\\t6\\t1997-09-24\\te,d,c\\tfff:3,eee:6,iii:4,bbb:7,ddd:4,ccc:1\\n', 'A\\t8\\t1997-09-28\\ta,e,f\\tfff:0,ddd:5,ccc:4\\n', 'E\\t5\\t1999-06-22\\tc,a,g\\tggg:6,hhh:3,ddd:9,ccc:10,jjj:7\\n', 'A\\t6\\t1999-07-29\\tf,e\\thhh:6,jjj:13,eee:5,iii:7,ccc:3\\n', 'C\\t0\\t1999-08-22\\tf,c,a,g\\teee:1,fff:4,aaa:2,ccc:7,ggg:10,ddd:6\\n', 'A\\t9\\t1998-04-26\\tb,f\\tccc:6,aaa:9,eee:5,ddd:0,bbb:3\\n', 'D\\t3\\t1998-02-24\\tb,f\\tbbb:7,hhh:1,aaa:6,iii:4,fff:9,ddd:5\\n', 'E\\t5\\t1999-03-24\\ta,c\\tfff:3,ccc:1,ggg:3,eee:5\\n', 'B\\t4\\t1998-03-23\\tb,f,c\\tiii:7,ggg:3,ddd:0,jjj:8,hhh:5,ccc:1\\n', 'B\\t6\\t1999-04-21\\tf,a,e\\thhh:6,ccc:3,jjj:9,bbb:8,ddd:7\\n', 'D\\t7\\t1999-02-29\\ta,f\\taaa:1,fff:5,ddd:3\\n', 'B\\t8\\t1997-05-21\\tc,a\\tddd:5,jjj:17,iii:7,ccc:10,bbb:4\\n', 'C\\t9\\t1997-07-22\\tc,a,e,f\\teee:3,fff:2,hhh:6\\n', 'E\\t1\\t1999-09-28\\te,d\\tfff:9,iii:2,eee:5\\n', 'E\\t5\\t1998-01-26\\tf,a,d\\thhh:8,ggg:3,jjj:5\\n']\n"
     ]
    }
   ],
   "source": [
    "Data = open('data.csv', 'r').readlines()\n",
    "print(Data)\n"
   ]
  },
  {
   "cell_type": "code",
   "execution_count": 7,
   "metadata": {},
   "outputs": [
    {
     "data": {
      "text/plain": [
       "[['E', '1', '1999-02-28', 'b,g,f', 'jjj:12,bbb:3,ddd:9,ggg:8,hhh:2'],\n",
       " ['A', '2', '1999-10-28', 'a,f,c', 'ccc:2,ddd:0,aaa:3,hhh:9'],\n",
       " ['B', '5', '1998-05-02', 'f,e,a,c', 'ddd:2,ggg:5,ccc:6,jjj:12'],\n",
       " ['A', '3', '1999-08-28', 'a,b', 'hhh:9,iii:5,eee:7,bbb:1'],\n",
       " ['C', '6', '1999-12-01', 'f,g,d,a', 'iii:6,ddd:5,eee:4,jjj:12'],\n",
       " ['A', '7', '1998-07-28', 'c,d', 'bbb:2,hhh:0,ccc:4,fff:1,aaa:7'],\n",
       " ['A', '9', '1997-02-28', 'g,d,a', 'aaa:5,fff:8,ddd:2,iii:0,jjj:7,ccc:1'],\n",
       " ['B', '1', '1999-05-10', 'b,a', 'fff:3,hhh:1,ddd:2'],\n",
       " ['E', '2', '1997-04-12', 'd,e,a,f', 'eee:4,ccc:5,iii:9,fff:7,ggg:6,bbb:2'],\n",
       " ['B', '3', '1999-11-23', 'd,b,g,f', 'bbb:7,jjj:9,fff:5,iii:4,ggg:3,eee:3'],\n",
       " ['C', '7', '1998-01-17', 'd,c,f,b', 'hhh:6,eee:4,iii:0,fff:2,jjj:12'],\n",
       " ['C', '5', '1998-12-28', 'd,e,a,c', 'bbb:7,iii:6,ggg:9'],\n",
       " ['D', '3', '1999-10-15', 'g,e,f,b', 'bbb:9,aaa:3,ccc:6,fff:4,eee:2'],\n",
       " ['E', '8', '1998-11-01', 'c,f', 'aaa:8,ddd:5,jjj:12'],\n",
       " ['B', '9', '1999-08-12', 'd,b', 'ccc:7,jjj:6,fff:7,ddd:3,aaa:2'],\n",
       " ['D', '8', '1997-12-01', 'f,e', 'ccc:8,eee:6,bbb:9,ddd:3'],\n",
       " ['E', '3', '1997-07-28', 'e,b,f', 'bbb:6,iii:3,hhh:5,fff:4,ggg:9,ddd:2'],\n",
       " ['D', '5', '1998-08-12', 'g,a', 'hhh:4,jjj:5,ccc:9'],\n",
       " ['E', '8', '1999-08-24', 'e,c,f,a', 'ccc:1,iii:6,fff:9'],\n",
       " ['E', '9', '1998-01-23', 'e,a', 'bbb:9,aaa:3,fff:1'],\n",
       " ['E', '7', '1999-06-22', 'e,f', 'ddd:9,iii:2,aaa:4'],\n",
       " ['E', '3', '1999-04-24', 'c,b,g', 'ccc:5,fff:8,iii:7'],\n",
       " ['D', '5', '1999-06-25', 'c,f,a', 'eee:3,jjj:17,ddd:7'],\n",
       " ['A', '9', '1999-08-25', 'f,a,d', 'jjj:12,ggg:7,ccc:7,ddd:9,bbb:3'],\n",
       " ['E', '4', '1997-07-26', 'c,d', 'jjj:6,ccc:4,aaa:1,hhh:9,iii:7,ggg:8'],\n",
       " ['E', '6', '1997-09-24', 'e,d,c', 'fff:3,eee:6,iii:4,bbb:7,ddd:4,ccc:1'],\n",
       " ['A', '8', '1997-09-28', 'a,e,f', 'fff:0,ddd:5,ccc:4'],\n",
       " ['E', '5', '1999-06-22', 'c,a,g', 'ggg:6,hhh:3,ddd:9,ccc:10,jjj:7'],\n",
       " ['A', '6', '1999-07-29', 'f,e', 'hhh:6,jjj:13,eee:5,iii:7,ccc:3'],\n",
       " ['C', '0', '1999-08-22', 'f,c,a,g', 'eee:1,fff:4,aaa:2,ccc:7,ggg:10,ddd:6'],\n",
       " ['A', '9', '1998-04-26', 'b,f', 'ccc:6,aaa:9,eee:5,ddd:0,bbb:3'],\n",
       " ['D', '3', '1998-02-24', 'b,f', 'bbb:7,hhh:1,aaa:6,iii:4,fff:9,ddd:5'],\n",
       " ['E', '5', '1999-03-24', 'a,c', 'fff:3,ccc:1,ggg:3,eee:5'],\n",
       " ['B', '4', '1998-03-23', 'b,f,c', 'iii:7,ggg:3,ddd:0,jjj:8,hhh:5,ccc:1'],\n",
       " ['B', '6', '1999-04-21', 'f,a,e', 'hhh:6,ccc:3,jjj:9,bbb:8,ddd:7'],\n",
       " ['D', '7', '1999-02-29', 'a,f', 'aaa:1,fff:5,ddd:3'],\n",
       " ['B', '8', '1997-05-21', 'c,a', 'ddd:5,jjj:17,iii:7,ccc:10,bbb:4'],\n",
       " ['C', '9', '1997-07-22', 'c,a,e,f', 'eee:3,fff:2,hhh:6'],\n",
       " ['E', '1', '1999-09-28', 'e,d', 'fff:9,iii:2,eee:5'],\n",
       " ['E', '5', '1998-01-26', 'f,a,d', 'hhh:8,ggg:3,jjj:5']]"
      ]
     },
     "execution_count": 7,
     "metadata": {},
     "output_type": "execute_result"
    }
   ],
   "source": [
    "def Datos():\n",
    "    Data = open('data.csv', 'r').readlines()\n",
    "    Data = [z.replace(\"\\n\", \"\") for z in Data]# se remplaza el salto de linea por vacío \"\"\n",
    "    Data = [z.split(\"\\t\") for z in Data]#se divine la cadena en cada tab (\"\\t\")\n",
    "    return Data\n",
    "\n",
    "Datos()"
   ]
  },
  {
   "cell_type": "code",
   "execution_count": 14,
   "metadata": {},
   "outputs": [
    {
     "data": {
      "text/plain": [
       "214"
      ]
     },
     "execution_count": 14,
     "metadata": {},
     "output_type": "execute_result"
    }
   ],
   "source": [
    "#Ejercicio 1\n",
    "Columna2 = [z[1] for z in Datos()[0:]]\n",
    "Suma = 0\n",
    "for i in Columna2:\n",
    "    Suma += int(i)\n",
    "Suma\n"
   ]
  },
  {
   "cell_type": "code",
   "execution_count": 32,
   "metadata": {},
   "outputs": [
    {
     "name": "stdout",
     "output_type": "stream",
     "text": [
      "[('A', 8), ('B', 7), ('C', 5), ('D', 6), ('E', 14)]\n"
     ]
    }
   ],
   "source": [
    "#ejercicio #2\n",
    "import string\n",
    "Columna1 = [z[0] for z in Datos()[0:]]\n",
    "\n",
    "Contador_de_letras = {letra:0 for letra in string.ascii_lowercase}\n",
    "\n",
    "for lista in Columna1:\n",
    "    for elemento in lista:\n",
    "        if elemento.isalpha():\n",
    "            letra = elemento.lower()\n",
    "            Contador_de_letras[letra] +=1\n",
    "\n",
    "lista_tuplas = sorted(Contador_de_letras.items())\n",
    "lista_tuplas_filtrada =[tupla for tupla in lista_tuplas if not 0 in tupla]\n",
    "lista_tuplas_mayuscula = list(map(lambda tupla: (tupla[0].upper() if isinstance(tupla[0], str) else tupla[0], tupla[1]), lista_tuplas_filtrada))\n",
    "print(lista_tuplas_mayuscula)\n",
    "\n",
    "\n",
    "\n"
   ]
  },
  {
   "cell_type": "code",
   "execution_count": 45,
   "metadata": {},
   "outputs": [
    {
     "data": {
      "text/plain": [
       "[('A', 53), ('B', 36), ('C', 27), ('D', 31), ('E', 67)]"
      ]
     },
     "execution_count": 45,
     "metadata": {},
     "output_type": "execute_result"
    }
   ],
   "source": [
    "#ejercicio #3\n",
    "Tabla1 = sorted([z[:2] for z in Datos()])\n",
    "Columna1 = [z[0] for z in Datos()[0:]]\n",
    "Grupos = sorted(list(set(Columna1)))\n",
    "\n",
    "Suma = 0\n",
    "ListaSuma = []\n",
    "\n",
    "for i in Grupos:\n",
    "    Suma = 0\n",
    "    for j in Tabla1:    \n",
    "        if i[0] == j[0]:\n",
    "            Suma += int(j[1])\n",
    "    ListaSuma.append(Suma)\n",
    "Lista_Tuplas = sorted(list(zip(Grupos, ListaSuma)))\n",
    "Lista_Tuplas\n",
    "\n",
    "\n",
    "\n",
    "\n",
    "\n"
   ]
  },
  {
   "cell_type": "code",
   "execution_count": 36,
   "metadata": {},
   "outputs": [
    {
     "name": "stdout",
     "output_type": "stream",
     "text": [
      "['E\\t1\\t1999-02-28\\tb,g,f\\tjjj:12,bbb:3,ddd:9,ggg:8,hhh:2\\n', 'A\\t2\\t1999-10-28\\ta,f,c\\tccc:2,ddd:0,aaa:3,hhh:9\\n', 'B\\t5\\t1998-05-02\\tf,e,a,c\\tddd:2,ggg:5,ccc:6,jjj:12\\n', 'A\\t3\\t1999-08-28\\ta,b\\thhh:9,iii:5,eee:7,bbb:1\\n', 'C\\t6\\t1999-12-01\\tf,g,d,a\\tiii:6,ddd:5,eee:4,jjj:12\\n', 'A\\t7\\t1998-07-28\\tc,d\\tbbb:2,hhh:0,ccc:4,fff:1,aaa:7\\n', 'A\\t9\\t1997-02-28\\tg,d,a\\taaa:5,fff:8,ddd:2,iii:0,jjj:7,ccc:1\\n', 'B\\t1\\t1999-05-10\\tb,a\\tfff:3,hhh:1,ddd:2\\n', 'E\\t2\\t1997-04-12\\td,e,a,f\\teee:4,ccc:5,iii:9,fff:7,ggg:6,bbb:2\\n', 'B\\t3\\t1999-11-23\\td,b,g,f\\tbbb:7,jjj:9,fff:5,iii:4,ggg:3,eee:3\\n', 'C\\t7\\t1998-01-17\\td,c,f,b\\thhh:6,eee:4,iii:0,fff:2,jjj:12\\n', 'C\\t5\\t1998-12-28\\td,e,a,c\\tbbb:7,iii:6,ggg:9\\n', 'D\\t3\\t1999-10-15\\tg,e,f,b\\tbbb:9,aaa:3,ccc:6,fff:4,eee:2\\n', 'E\\t8\\t1998-11-01\\tc,f\\taaa:8,ddd:5,jjj:12\\n', 'B\\t9\\t1999-08-12\\td,b\\tccc:7,jjj:6,fff:7,ddd:3,aaa:2\\n', 'D\\t8\\t1997-12-01\\tf,e\\tccc:8,eee:6,bbb:9,ddd:3\\n', 'E\\t3\\t1997-07-28\\te,b,f\\tbbb:6,iii:3,hhh:5,fff:4,ggg:9,ddd:2\\n', 'D\\t5\\t1998-08-12\\tg,a\\thhh:4,jjj:5,ccc:9\\n', 'E\\t8\\t1999-08-24\\te,c,f,a\\tccc:1,iii:6,fff:9\\n', 'E\\t9\\t1998-01-23\\te,a\\tbbb:9,aaa:3,fff:1\\n', 'E\\t7\\t1999-06-22\\te,f\\tddd:9,iii:2,aaa:4\\n', 'E\\t3\\t1999-04-24\\tc,b,g\\tccc:5,fff:8,iii:7\\n', 'D\\t5\\t1999-06-25\\tc,f,a\\teee:3,jjj:17,ddd:7\\n', 'A\\t9\\t1999-08-25\\tf,a,d\\tjjj:12,ggg:7,ccc:7,ddd:9,bbb:3\\n', 'E\\t4\\t1997-07-26\\tc,d\\tjjj:6,ccc:4,aaa:1,hhh:9,iii:7,ggg:8\\n', 'E\\t6\\t1997-09-24\\te,d,c\\tfff:3,eee:6,iii:4,bbb:7,ddd:4,ccc:1\\n', 'A\\t8\\t1997-09-28\\ta,e,f\\tfff:0,ddd:5,ccc:4\\n', 'E\\t5\\t1999-06-22\\tc,a,g\\tggg:6,hhh:3,ddd:9,ccc:10,jjj:7\\n', 'A\\t6\\t1999-07-29\\tf,e\\thhh:6,jjj:13,eee:5,iii:7,ccc:3\\n', 'C\\t0\\t1999-08-22\\tf,c,a,g\\teee:1,fff:4,aaa:2,ccc:7,ggg:10,ddd:6\\n', 'A\\t9\\t1998-04-26\\tb,f\\tccc:6,aaa:9,eee:5,ddd:0,bbb:3\\n', 'D\\t3\\t1998-02-24\\tb,f\\tbbb:7,hhh:1,aaa:6,iii:4,fff:9,ddd:5\\n', 'E\\t5\\t1999-03-24\\ta,c\\tfff:3,ccc:1,ggg:3,eee:5\\n', 'B\\t4\\t1998-03-23\\tb,f,c\\tiii:7,ggg:3,ddd:0,jjj:8,hhh:5,ccc:1\\n', 'B\\t6\\t1999-04-21\\tf,a,e\\thhh:6,ccc:3,jjj:9,bbb:8,ddd:7\\n', 'D\\t7\\t1999-02-29\\ta,f\\taaa:1,fff:5,ddd:3\\n', 'B\\t8\\t1997-05-21\\tc,a\\tddd:5,jjj:17,iii:7,ccc:10,bbb:4\\n', 'C\\t9\\t1997-07-22\\tc,a,e,f\\teee:3,fff:2,hhh:6\\n', 'E\\t1\\t1999-09-28\\te,d\\tfff:9,iii:2,eee:5\\n', 'E\\t5\\t1998-01-26\\tf,a,d\\thhh:8,ggg:3,jjj:5\\n']\n"
     ]
    }
   ],
   "source": []
  },
  {
   "cell_type": "code",
   "execution_count": null,
   "metadata": {},
   "outputs": [],
   "source": []
  }
 ],
 "metadata": {
  "kernelspec": {
   "display_name": "Python 3",
   "language": "python",
   "name": "python3"
  },
  "language_info": {
   "codemirror_mode": {
    "name": "ipython",
    "version": 3
   },
   "file_extension": ".py",
   "mimetype": "text/x-python",
   "name": "python",
   "nbconvert_exporter": "python",
   "pygments_lexer": "ipython3",
   "version": "3.11.2"
  },
  "orig_nbformat": 4
 },
 "nbformat": 4,
 "nbformat_minor": 2
}
